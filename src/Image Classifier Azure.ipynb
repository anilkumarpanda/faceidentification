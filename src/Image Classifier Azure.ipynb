{
 "cells": [
  {
   "cell_type": "code",
   "execution_count": 1,
   "metadata": {
    "collapsed": true
   },
   "outputs": [],
   "source": [
    "#Image Classifier using Amazon Rekognition Service"
   ]
  },
  {
   "cell_type": "code",
   "execution_count": 2,
   "metadata": {},
   "outputs": [],
   "source": [
    "#Install python packages if not installed\n",
    "#!pip install boto3\n",
    "#!pip install Pillow\n",
    "#!pip install cognitive_face"
   ]
  },
  {
   "cell_type": "code",
   "execution_count": 3,
   "metadata": {
    "collapsed": true
   },
   "outputs": [],
   "source": [
    "import pathlib\n",
    "from PIL import Image\n",
    "import glob, os\n",
    "import cognitive_face as CF\n",
    "import shutil\n",
    "\n",
    "#Define all input variables \n",
    "#Input the directory where the images are stored\n",
    "#Please be aware of the end slash (/)\n",
    "\n",
    "source_dir = r'/Users/anilkumarpanda/Pictures/Kolkata_Feb_2018/'\n",
    "delete_dir = source_dir+'delete/'\n",
    "size = 2048,2048\n",
    "\n",
    "SUBSCRIPTION_KEY = 'a869bc0b48f846dfaaed956d80e263a9'\n",
    "BASE_URL = 'https://westeurope.api.cognitive.microsoft.com/face/v1.0'\n",
    "PERSON_GROUP_ID = 'known-persons'\n",
    "\n",
    "CF.BaseUrl.set(BASE_URL)\n",
    "CF.Key.set(SUBSCRIPTION_KEY)\n",
    "\n",
    "#Initialization of directories\n",
    "if not os.path.exists(delete_dir):\n",
    "    os.makedirs(delete_dir)"
   ]
  },
  {
   "cell_type": "code",
   "execution_count": 4,
   "metadata": {},
   "outputs": [],
   "source": [
    "#Define important functions\n",
    "\n",
    "#Function to return a path of .jpg/.jpeg images in the directory\n",
    "def return_img_list(input_dir):\n",
    "    list_of_images = []\n",
    "    # define the path\n",
    "    currentDirectory = pathlib.Path(input_dir)\n",
    "    # define the pattern to loo\n",
    "    #currentPattern = pattern\n",
    "#     for currentFile in currentDirectory.glob(currentPattern):\n",
    "#         list_of_images.append(currentFile)\n",
    "#         #print(currentFile)\n",
    "    included_extenstions = ['jpg', 'jpeg', 'JPG','JPEG']\n",
    "    list_of_images = [input_dir+fn for fn in os.listdir(input_dir) \n",
    "                  if any(fn.endswith(ext) for ext in included_extenstions)]\n",
    "    return list_of_images\n",
    "\n",
    "#Function to reduce the size of the images, so that transmission and scoring can be faster.\n",
    "def resize_images(img_list):\n",
    "    for infile in img_list:\n",
    "        file,ext = os.path.splitext(infile)\n",
    "        im = Image.open(infile)\n",
    "        im.thumbnail(size,Image.ANTIALIAS)\n",
    "        im.save(infile)\n",
    "\n",
    "#Function to move files to delete directory :\n",
    "def move_to_delete(img_path):\n",
    "    img_name_list = img_path.split('/')\n",
    "    img_name_list.insert(-1,'delete')\n",
    "    new_img_path = '/'.join(map(str,img_name_list)) \n",
    "    #print(new_img_path)\n",
    "    shutil.move(img_url,new_img_path)"
   ]
  },
  {
   "cell_type": "code",
   "execution_count": 5,
   "metadata": {},
   "outputs": [],
   "source": [
    "img_list = return_img_list(source_dir)\n",
    "resize_images(img_list)\n",
    "thumb_img_list = return_img_list(source_dir)\n",
    "#print (thumb_img_list)"
   ]
  },
  {
   "cell_type": "code",
   "execution_count": 6,
   "metadata": {
    "scrolled": false
   },
   "outputs": [],
   "source": [
    "# CF.person_group.create(PERSON_GROUP_ID,'Known Persons')\n",
    "# You can use this example JPG or replace the URL below with your own URL to a JPEG image.\n",
    "# for img_url in thumb_img_list:\n",
    "#     faces = CF.face.detect(img_url)\n",
    "#     print(faces)"
   ]
  },
  {
   "cell_type": "code",
   "execution_count": 7,
   "metadata": {},
   "outputs": [
    {
     "data": {
      "text/plain": [
       "{}"
      ]
     },
     "execution_count": 7,
     "metadata": {},
     "output_type": "execute_result"
    }
   ],
   "source": [
    "CF.person_group.delete(PERSON_GROUP_ID)\n",
    "CF.person_group.create(PERSON_GROUP_ID,'Known Persons')"
   ]
  },
  {
   "cell_type": "code",
   "execution_count": 8,
   "metadata": {
    "collapsed": true
   },
   "outputs": [],
   "source": [
    "name = \"Anil Panda\"\n",
    "user_data = 'Person group to hold pictures of Anil '\n",
    "response = CF.person.create(PERSON_GROUP_ID, name, user_data)\n",
    "# Get person_id from response\n",
    "person_id = response['personId']"
   ]
  },
  {
   "cell_type": "code",
   "execution_count": 9,
   "metadata": {
    "scrolled": false
   },
   "outputs": [
    {
     "name": "stdout",
     "output_type": "stream",
     "text": [
      "Added file /Users/anilkumarpanda/Pictures/Kolkata_Feb_2018/known_faces/WhatsApp Image 2017-10-09 at 7.17.16 PM.jpg\n",
      "Added file /Users/anilkumarpanda/Pictures/Kolkata_Feb_2018/known_faces/1.panda_anil_2597.jpg\n",
      "Added file /Users/anilkumarpanda/Pictures/Kolkata_Feb_2018/known_faces/WhatsApp Image 2017-10-09 at 9.08.15 PM.jpg\n",
      "Added file /Users/anilkumarpanda/Pictures/Kolkata_Feb_2018/known_faces/1.panda_anil_2597_thumbnail.JPEG\n",
      "Added file /Users/anilkumarpanda/Pictures/Kolkata_Feb_2018/known_faces/WhatsApp Image 2017-10-09 at 7.17.17 PM.jpg\n",
      "Added file /Users/anilkumarpanda/Pictures/Kolkata_Feb_2018/known_faces/WhatsApp Image 2017-10-09 at 9.08.16 PM.jpg\n",
      "[{'personId': '0bbb3cf1-5f6a-4545-b5ec-9fb64b56d944', 'persistedFaceIds': ['19259170-2ecb-4d09-a0f0-9334949e5168', '21f11c77-d064-4f63-ba3b-e17b81d2b91e', '2c541be6-31c9-4248-82fa-c6527897061c', '3467c9d6-a5ec-436a-b7fb-5c4051e2a242', '42443e78-6da6-4179-8805-5ce6e51ca0dc', 'b4ff0b98-1a99-4826-ad81-35f6e2e65f8e'], 'name': 'Anil Panda', 'userData': 'Person group to hold pictures of Anil '}]\n"
     ]
    }
   ],
   "source": [
    "# Add known_faces to known person group\n",
    "known_face_dir = '/Users/anilkumarpanda/Pictures/Kolkata_Feb_2018/known_faces/'\n",
    "\n",
    "k_img_list = return_img_list(known_face_dir)\n",
    "resize_images(k_img_list)\n",
    "k_thumb_img_list = return_img_list(known_face_dir)\n",
    "\n",
    "#print(k_thumb_img_list)\n",
    "\n",
    "for img_url in k_thumb_img_list:\n",
    "    faces = CF.face.detect(img_url)\n",
    "    #print(faces)\n",
    "    CF.person.add_face(img_url, PERSON_GROUP_ID, person_id)\n",
    "    print('Added file '+ img_url)\n",
    "\n",
    "print (CF.person.lists(PERSON_GROUP_ID))"
   ]
  },
  {
   "cell_type": "code",
   "execution_count": 10,
   "metadata": {},
   "outputs": [
    {
     "data": {
      "text/plain": [
       "{}"
      ]
     },
     "execution_count": 10,
     "metadata": {},
     "output_type": "execute_result"
    }
   ],
   "source": [
    "CF.person_group.train(PERSON_GROUP_ID)"
   ]
  },
  {
   "cell_type": "code",
   "execution_count": 11,
   "metadata": {},
   "outputs": [
    {
     "name": "stdout",
     "output_type": "stream",
     "text": [
      "succeeded\n"
     ]
    }
   ],
   "source": [
    "response = CF.person_group.get_status(PERSON_GROUP_ID)\n",
    "status = response['status']\n",
    "print(status)"
   ]
  },
  {
   "cell_type": "code",
   "execution_count": 12,
   "metadata": {
    "scrolled": false
   },
   "outputs": [
    {
     "name": "stdout",
     "output_type": "stream",
     "text": [
      "/Users/anilkumarpanda/Pictures/Kolkata_Feb_2018/IMG_0001.jpg Confidence :0.83998\n",
      "/Users/anilkumarpanda/Pictures/Kolkata_Feb_2018/IMG_9966.jpg Confidence :0.82357\n",
      "/Users/anilkumarpanda/Pictures/Kolkata_Feb_2018/IMG_9972.jpg Confidence :0.84734\n",
      "/Users/anilkumarpanda/Pictures/Kolkata_Feb_2018/IMG_0003.jpg Confidence :0.82212\n",
      "/Users/anilkumarpanda/Pictures/Kolkata_Feb_2018/IMG_0002.jpg Confidence :0.82305\n",
      "/Users/anilkumarpanda/Pictures/Kolkata_Feb_2018/IMG_9973.jpg Confidence :0.84907\n",
      "/Users/anilkumarpanda/Pictures/Kolkata_Feb_2018/IMG_9967.jpg Confidence :0.82434\n",
      "/Users/anilkumarpanda/Pictures/Kolkata_Feb_2018/IMG_0007.jpg Confidence :0.84448\n",
      "/Users/anilkumarpanda/Pictures/Kolkata_Feb_2018/IMG_0010.jpg Confidence :0.80977\n",
      "/Users/anilkumarpanda/Pictures/Kolkata_Feb_2018/IMG_9975.jpg Confidence :0.80006\n",
      "/Users/anilkumarpanda/Pictures/Kolkata_Feb_2018/IMG_0076.jpg Confidence :0.8561\n",
      "/Users/anilkumarpanda/Pictures/Kolkata_Feb_2018/IMG_0074.jpg Confidence :0.83784\n",
      "/Users/anilkumarpanda/Pictures/Kolkata_Feb_2018/IMG_0100.jpg Confidence :0.8266\n",
      "/Users/anilkumarpanda/Pictures/Kolkata_Feb_2018/IMG_0101.jpg Confidence :0.82675\n",
      "/Users/anilkumarpanda/Pictures/Kolkata_Feb_2018/IMG_0075.jpg Confidence :0.86749\n",
      "/Users/anilkumarpanda/Pictures/Kolkata_Feb_2018/IMG_0111.jpg Confidence :0.81129\n",
      "/Users/anilkumarpanda/Pictures/Kolkata_Feb_2018/IMG_0110.jpg Confidence :0.81398\n",
      "/Users/anilkumarpanda/Pictures/Kolkata_Feb_2018/IMG_0099.jpg Confidence :0.77774\n",
      "/Users/anilkumarpanda/Pictures/Kolkata_Feb_2018/IMG_0073.jpg Confidence :0.80348\n",
      "/Users/anilkumarpanda/Pictures/Kolkata_Feb_2018/IMG_0098.jpg Confidence :0.81115\n",
      "/Users/anilkumarpanda/Pictures/Kolkata_Feb_2018/IMG_0095.jpg Confidence :0.79816\n",
      "/Users/anilkumarpanda/Pictures/Kolkata_Feb_2018/IMG_0094.jpg Confidence :0.84901\n",
      "/Users/anilkumarpanda/Pictures/Kolkata_Feb_2018/IMG_0096.jpg Confidence :0.67063\n",
      "/Users/anilkumarpanda/Pictures/Kolkata_Feb_2018/IMG_0055.jpg Confidence :0.78875\n",
      "/Users/anilkumarpanda/Pictures/Kolkata_Feb_2018/IMG_0109.jpg Confidence :0.83158\n",
      "/Users/anilkumarpanda/Pictures/Kolkata_Feb_2018/IMG_0054.jpg Confidence :0.79636\n",
      "/Users/anilkumarpanda/Pictures/Kolkata_Feb_2018/IMG_0093.jpg Confidence :0.80672\n",
      "/Users/anilkumarpanda/Pictures/Kolkata_Feb_2018/IMG_0078.jpg Confidence :0.85697\n",
      "/Users/anilkumarpanda/Pictures/Kolkata_Feb_2018/IMG_0079 2.jpg Confidence :0.80195\n",
      "/Users/anilkumarpanda/Pictures/Kolkata_Feb_2018/IMG_0079.jpg Confidence :0.80195\n",
      "/Users/anilkumarpanda/Pictures/Kolkata_Feb_2018/IMG_0092.jpg Confidence :0.79463\n",
      "/Users/anilkumarpanda/Pictures/Kolkata_Feb_2018/IMG_0053.jpg Confidence :0.77325\n",
      "/Users/anilkumarpanda/Pictures/Kolkata_Feb_2018/IMG_0091.jpg Confidence :0.79817\n",
      "/Users/anilkumarpanda/Pictures/Kolkata_Feb_2018/IMG_0009.jpg Confidence :0.85582\n",
      "/Users/anilkumarpanda/Pictures/Kolkata_Feb_2018/IMG_0008.jpg Confidence :0.85195\n",
      "/Users/anilkumarpanda/Pictures/Kolkata_Feb_2018/IMG_0034.jpg Confidence :0.62765\n",
      "/Users/anilkumarpanda/Pictures/Kolkata_Feb_2018/IMG_0078 2.jpg Confidence :0.85697\n",
      "/Users/anilkumarpanda/Pictures/Kolkata_Feb_2018/IMG_9968.jpg Confidence :0.82069\n"
     ]
    }
   ],
   "source": [
    "for img_url in thumb_img_list:\n",
    "    response = CF.face.detect(img_url)\n",
    "    face_ids = [d['faceId'] for d in response]\n",
    "    #print(face_ids)\n",
    "    if len(face_ids)>0:\n",
    "        identified_faces = CF.face.identify(face_ids,PERSON_GROUP_ID)\n",
    "        #print(identified_faces)\n",
    "        for index in range(0,len(identified_faces)):\n",
    "            if len(identified_faces[index]['candidates'])>0 and \\\n",
    "            (identified_faces[index]['candidates'][0]['confidence'])>0.6 :\n",
    "                confidence = identified_faces[index]['candidates'][0]['confidence']\n",
    "                print (str(img_url)+\" Confidence :\"+str(confidence))\n",
    "                move_to_delete(img_url)"
   ]
  },
  {
   "cell_type": "code",
   "execution_count": null,
   "metadata": {
    "collapsed": true
   },
   "outputs": [],
   "source": []
  }
 ],
 "metadata": {
  "kernelspec": {
   "display_name": "Python 3",
   "language": "python",
   "name": "python3"
  },
  "language_info": {
   "codemirror_mode": {
    "name": "ipython",
    "version": 3
   },
   "file_extension": ".py",
   "mimetype": "text/x-python",
   "name": "python",
   "nbconvert_exporter": "python",
   "pygments_lexer": "ipython3",
   "version": "3.6.1"
  }
 },
 "nbformat": 4,
 "nbformat_minor": 2
}
