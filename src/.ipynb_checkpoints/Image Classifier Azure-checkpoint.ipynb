{
 "cells": [
  {
   "cell_type": "code",
   "execution_count": 1,
   "metadata": {
    "collapsed": true
   },
   "outputs": [],
   "source": [
    "#Image Classifier using Amazon Rekognition Service"
   ]
  },
  {
   "cell_type": "code",
   "execution_count": 80,
   "metadata": {},
   "outputs": [],
   "source": [
    "#Install python packages if not installed\n",
    "#!pip install boto3\n",
    "#!pip install Pillow\n",
    "#!pip install cognitive_face"
   ]
  },
  {
   "cell_type": "code",
   "execution_count": 120,
   "metadata": {
    "collapsed": true
   },
   "outputs": [],
   "source": [
    "import pathlib\n",
    "from PIL import Image\n",
    "import glob, os\n",
    "import cognitive_face as CF\n",
    "import shutil\n",
    "\n",
    "#Define all input variables \n",
    "#Input the directory where the images are stored\n",
    "source_dir = '/Users/anilkumarpanda/Pictures/Kolkata_Feb_2018/'\n",
    "delete_dir = source_dir+'delete/'\n",
    "size = 1024,1024\n",
    "\n",
    "SUBSCRIPTION_KEY = 'a869bc0b48f846dfaaed956d80e263a9'\n",
    "BASE_URL = 'https://westeurope.api.cognitive.microsoft.com/face/v1.0'\n",
    "PERSON_GROUP_ID = 'known-persons'\n",
    "\n",
    "CF.BaseUrl.set(BASE_URL)\n",
    "CF.Key.set(SUBSCRIPTION_KEY)\n",
    "\n",
    "#Initialization\n",
    "if not os.path.exists(delete_dir):\n",
    "    os.makedirs(delete_dir)\n",
    "    \n"
   ]
  },
  {
   "cell_type": "code",
   "execution_count": 82,
   "metadata": {},
   "outputs": [],
   "source": [
    "#Define important functions\n",
    "\n",
    "#Function to return a path of .jpg/.jpeg images in the directory\n",
    "def return_img_list(input_dir,pattern):\n",
    "    list_of_images = []\n",
    "    # define the path\n",
    "    currentDirectory = pathlib.Path(input_dir)\n",
    "    # define the pattern to loo\n",
    "    currentPattern = pattern\n",
    "    for currentFile in currentDirectory.glob(currentPattern):\n",
    "        list_of_images.append(currentFile)\n",
    "        #print(currentFile)\n",
    "    return list_of_images\n",
    "\n",
    "#Function to reduce the size of the images, so that transmission and scoring can be faster.\n",
    "def resize_images(img_list):\n",
    "    for infile in img_list:\n",
    "        file, ext = os.path.splitext(infile)\n",
    "        im = Image.open(infile)\n",
    "        im.thumbnail(size,Image.ANTIALIAS)\n",
    "        im.save(file + \"_thumbnail.JPEG\")\n",
    "        \n",
    "#Function to move files to delete directory :\n",
    "def move_to_delete(img_url):\n",
    "    "
   ]
  },
  {
   "cell_type": "code",
   "execution_count": 83,
   "metadata": {},
   "outputs": [],
   "source": [
    "img_list = return_img_list(source_dir,'*.jpg')\n",
    "resize_images(img_list)\n",
    "thumb_img_list = return_img_list(source_dir,'*_thumbnail.JPEG')\n",
    "#print (thumb_img_list)"
   ]
  },
  {
   "cell_type": "code",
   "execution_count": null,
   "metadata": {
    "collapsed": true
   },
   "outputs": [],
   "source": []
  },
  {
   "cell_type": "code",
   "execution_count": 84,
   "metadata": {
    "scrolled": false
   },
   "outputs": [],
   "source": [
    "# CF.person_group.create(PERSON_GROUP_ID,'Known Persons')\n",
    "# You can use this example JPG or replace the URL below with your own URL to a JPEG image.\n",
    "# for img_url in thumb_img_list:\n",
    "#     faces = CF.face.detect(img_url)\n",
    "#     print(faces)"
   ]
  },
  {
   "cell_type": "code",
   "execution_count": 87,
   "metadata": {},
   "outputs": [
    {
     "data": {
      "text/plain": [
       "{'createdDateTime': '8/24/2018 11:30:41 PM',\n",
       " 'lastActionDateTime': '08/24/2018 23:30:41',\n",
       " 'message': None,\n",
       " 'status': 'succeeded'}"
      ]
     },
     "execution_count": 87,
     "metadata": {},
     "output_type": "execute_result"
    }
   ],
   "source": [
    "CF.person_group.get_status(PERSON_GROUP_ID)\n",
    "#CF.person_group.create(PERSON_GROUP_ID,'Known Persons')"
   ]
  },
  {
   "cell_type": "code",
   "execution_count": 88,
   "metadata": {
    "collapsed": true
   },
   "outputs": [],
   "source": [
    "name = \"Anil Panda\"\n",
    "user_data = 'Person group to hold pictures of Anil '\n",
    "response = CF.person.create(PERSON_GROUP_ID, name, user_data)\n",
    "# Get person_id from response\n",
    "person_id = response['personId']"
   ]
  },
  {
   "cell_type": "code",
   "execution_count": 89,
   "metadata": {},
   "outputs": [
    {
     "name": "stdout",
     "output_type": "stream",
     "text": [
      "[{'personId': '826f8242-2bf7-40ce-9829-1b23f43d130b', 'persistedFaceIds': ['0349f943-770b-4df3-b8d9-713695bedc29', '399e68bc-e207-47ee-b10b-192210ffa29e', '7b2bb0f0-3ee6-484b-bfe1-ad5bcc71a5b2', '94fb6dc7-f0cd-4787-b077-7dc2b7519721', '973640ac-5742-44e9-8d95-2f2a1055f544', '9d36cc85-5af9-47e2-94ce-368842eea979', 'a850f143-a2a2-40a1-a9c9-5e79ec604892', 'e48614b7-44ce-431e-a2de-c7e56446945e'], 'name': 'Anil Panda', 'userData': 'Person group to hold pictures of Anil '}, {'personId': 'bb29defa-35ad-461b-995c-422f45dd569b', 'persistedFaceIds': ['27bc51b4-2958-4f35-8057-934f6b35e528', '66d1c136-6830-494b-bce0-4db7cee4fc27', 'e7902c7d-bb5b-481c-b683-5b72f78ce486'], 'name': 'Anil Panda', 'userData': 'Person group to hold pictures of Anil '}]\n"
     ]
    }
   ],
   "source": [
    "# Add known_faces to known person group\n",
    "known_face_dir = '/Users/anilkumarpanda/Pictures/Kolkata_Feb_2018/known_faces/'\n",
    "\n",
    "k_img_list = return_img_list(known_face_dir,'*.jpg')\n",
    "resize_images(k_img_list)\n",
    "k_thumb_img_list = return_img_list(known_face_dir,'*_thumbnail.JPEG')\n",
    "\n",
    "for img_url in k_thumb_img_list:\n",
    "    CF.person.add_face(img_url, PERSON_GROUP_ID, person_id)\n",
    "    #print('Added file '+ img_url)\n",
    "\n",
    "print (CF.person.lists(PERSON_GROUP_ID))"
   ]
  },
  {
   "cell_type": "code",
   "execution_count": 90,
   "metadata": {},
   "outputs": [
    {
     "data": {
      "text/plain": [
       "{}"
      ]
     },
     "execution_count": 90,
     "metadata": {},
     "output_type": "execute_result"
    }
   ],
   "source": [
    "CF.person_group.train(PERSON_GROUP_ID)"
   ]
  },
  {
   "cell_type": "code",
   "execution_count": 91,
   "metadata": {},
   "outputs": [
    {
     "name": "stdout",
     "output_type": "stream",
     "text": [
      "succeeded\n"
     ]
    }
   ],
   "source": [
    "response = CF.person_group.get_status(PERSON_GROUP_ID)\n",
    "status = response['status']\n",
    "print(status)"
   ]
  },
  {
   "cell_type": "code",
   "execution_count": 118,
   "metadata": {
    "scrolled": false
   },
   "outputs": [
    {
     "name": "stdout",
     "output_type": "stream",
     "text": [
      "/Users/anilkumarpanda/Pictures/Kolkata_Feb_2018/IMG_0003_thumbnail.JPEG Confidence :0.84018\n",
      "/Users/anilkumarpanda/Pictures/Kolkata_Feb_2018/IMG_0098_thumbnail.JPEG Confidence :0.80188\n",
      "/Users/anilkumarpanda/Pictures/Kolkata_Feb_2018/IMG_0100_thumbnail.JPEG Confidence :0.81301\n",
      "/Users/anilkumarpanda/Pictures/Kolkata_Feb_2018/IMG_0078 2_thumbnail.JPEG Confidence :0.83719\n",
      "/Users/anilkumarpanda/Pictures/Kolkata_Feb_2018/IMG_0075_thumbnail.JPEG Confidence :0.87146\n",
      "/Users/anilkumarpanda/Pictures/Kolkata_Feb_2018/IMG_0010_thumbnail.JPEG Confidence :0.78929\n",
      "/Users/anilkumarpanda/Pictures/Kolkata_Feb_2018/IMG_0074_thumbnail.JPEG Confidence :0.8324\n",
      "/Users/anilkumarpanda/Pictures/Kolkata_Feb_2018/IMG_0091_thumbnail.JPEG Confidence :0.8051\n",
      "/Users/anilkumarpanda/Pictures/Kolkata_Feb_2018/IMG_0109_thumbnail.JPEG Confidence :0.81767\n",
      "/Users/anilkumarpanda/Pictures/Kolkata_Feb_2018/IMG_0101_thumbnail.JPEG Confidence :0.82116\n",
      "/Users/anilkumarpanda/Pictures/Kolkata_Feb_2018/IMG_0099_thumbnail.JPEG Confidence :0.78387\n",
      "/Users/anilkumarpanda/Pictures/Kolkata_Feb_2018/IMG_0002_thumbnail.JPEG Confidence :0.81567\n",
      "/Users/anilkumarpanda/Pictures/Kolkata_Feb_2018/IMG_0073_thumbnail.JPEG Confidence :0.78788\n",
      "/Users/anilkumarpanda/Pictures/Kolkata_Feb_2018/IMG_0093_thumbnail.JPEG Confidence :0.78566\n",
      "/Users/anilkumarpanda/Pictures/Kolkata_Feb_2018/IMG_9966_thumbnail.JPEG Confidence :0.81441\n",
      "/Users/anilkumarpanda/Pictures/Kolkata_Feb_2018/IMG_9973_thumbnail.JPEG Confidence :0.83565\n",
      "/Users/anilkumarpanda/Pictures/Kolkata_Feb_2018/IMG_0008_thumbnail.JPEG Confidence :0.84318\n",
      "/Users/anilkumarpanda/Pictures/Kolkata_Feb_2018/IMG_0079_thumbnail.JPEG Confidence :0.83171\n",
      "/Users/anilkumarpanda/Pictures/Kolkata_Feb_2018/IMG_0094_thumbnail.JPEG Confidence :0.85348\n",
      "/Users/anilkumarpanda/Pictures/Kolkata_Feb_2018/IMG_0076_thumbnail.JPEG Confidence :0.85479\n",
      "/Users/anilkumarpanda/Pictures/Kolkata_Feb_2018/IMG_0079 2_thumbnail.JPEG Confidence :0.83171\n",
      "/Users/anilkumarpanda/Pictures/Kolkata_Feb_2018/IMG_0111_thumbnail.JPEG Confidence :0.799\n",
      "/Users/anilkumarpanda/Pictures/Kolkata_Feb_2018/IMG_0007_thumbnail.JPEG Confidence :0.81348\n",
      "/Users/anilkumarpanda/Pictures/Kolkata_Feb_2018/IMG_9968_thumbnail.JPEG Confidence :0.82468\n",
      "/Users/anilkumarpanda/Pictures/Kolkata_Feb_2018/IMG_0110_thumbnail.JPEG Confidence :0.79967\n",
      "/Users/anilkumarpanda/Pictures/Kolkata_Feb_2018/IMG_0095_thumbnail.JPEG Confidence :0.79313\n",
      "/Users/anilkumarpanda/Pictures/Kolkata_Feb_2018/IMG_9975_thumbnail.JPEG Confidence :0.77655\n",
      "/Users/anilkumarpanda/Pictures/Kolkata_Feb_2018/IMG_0001_thumbnail.JPEG Confidence :0.81245\n",
      "/Users/anilkumarpanda/Pictures/Kolkata_Feb_2018/IMG_0009_thumbnail.JPEG Confidence :0.84525\n",
      "/Users/anilkumarpanda/Pictures/Kolkata_Feb_2018/IMG_9972_thumbnail.JPEG Confidence :0.83685\n",
      "/Users/anilkumarpanda/Pictures/Kolkata_Feb_2018/IMG_9967_thumbnail.JPEG Confidence :0.8113\n",
      "/Users/anilkumarpanda/Pictures/Kolkata_Feb_2018/IMG_0092_thumbnail.JPEG Confidence :0.79703\n",
      "/Users/anilkumarpanda/Pictures/Kolkata_Feb_2018/IMG_0078_thumbnail.JPEG Confidence :0.83719\n",
      "/Users/anilkumarpanda/Pictures/Kolkata_Feb_2018/IMG_0055_thumbnail.JPEG Confidence :0.77836\n",
      "/Users/anilkumarpanda/Pictures/Kolkata_Feb_2018/IMG_0054_thumbnail.JPEG Confidence :0.78392\n",
      "/Users/anilkumarpanda/Pictures/Kolkata_Feb_2018/IMG_0053_thumbnail.JPEG Confidence :0.76735\n"
     ]
    }
   ],
   "source": [
    "for img_url in thumb_img_list:\n",
    "    response = CF.face.detect(img_url)\n",
    "    face_ids = [d['faceId'] for d in response]\n",
    "    #print(face_ids)\n",
    "    if len(face_ids)>0:\n",
    "        identified_faces = CF.face.identify(face_ids,PERSON_GROUP_ID)\n",
    "        #print(identified_faces)\n",
    "        for index in range(0,len(identified_faces)):\n",
    "            if len(identified_faces[index]['candidates'])>0 and \\\n",
    "            (identified_faces[index]['candidates'][0]['confidence'])>0.7 :\n",
    "                confidence = identified_faces[index]['candidates'][0]['confidence']\n",
    "                print (str(img_url)+\" Confidence :\"+str(confidence))"
   ]
  },
  {
   "cell_type": "code",
   "execution_count": 115,
   "metadata": {},
   "outputs": [
    {
     "name": "stdout",
     "output_type": "stream",
     "text": [
      "Hello World\n"
     ]
    },
    {
     "data": {
      "text/plain": [
       "'1824141e-f7a5-4fba-82a9-e2498c77136d'"
      ]
     },
     "execution_count": 115,
     "metadata": {},
     "output_type": "execute_result"
    }
   ],
   "source": [
    "for index in range(0,len(identified_faces)):\n",
    "    if len(identified_faces[index]['candidates'])>0 and \\\n",
    "    (identified_faces[index]['candidates'][0]['confidence'])>0.7 :\n",
    "        print (\"Hello World\")\n"
   ]
  },
  {
   "cell_type": "code",
   "execution_count": 142,
   "metadata": {},
   "outputs": [
    {
     "name": "stdout",
     "output_type": "stream",
     "text": [
      "/Users/anilkumarpanda/Pictures/Kolkata_Feb_2018/IMG_0053_thumbnail.JPEG\n",
      "/Users/anilkumarpanda/Pictures/Kolkata_Feb_2018//delete/IMG_0053_thumbnail.JPEG\n"
     ]
    }
   ],
   "source": [
    "print(img_url)\n",
    "def move_to_delete(img_url):\n",
    "    img_name = img_url.name\n",
    "    new_path = delete_dir+img_name\n",
    "    print(new_path)\n",
    "move_to_delete(img_url)"
   ]
  },
  {
   "cell_type": "code",
   "execution_count": null,
   "metadata": {
    "collapsed": true
   },
   "outputs": [],
   "source": []
  }
 ],
 "metadata": {
  "kernelspec": {
   "display_name": "Python 3",
   "language": "python",
   "name": "python3"
  },
  "language_info": {
   "codemirror_mode": {
    "name": "ipython",
    "version": 3
   },
   "file_extension": ".py",
   "mimetype": "text/x-python",
   "name": "python",
   "nbconvert_exporter": "python",
   "pygments_lexer": "ipython3",
   "version": "3.6.1"
  }
 },
 "nbformat": 4,
 "nbformat_minor": 2
}
